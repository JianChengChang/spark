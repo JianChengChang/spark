{
 "cells": [
  {
   "cell_type": "code",
   "execution_count": 1,
   "id": "745e087c",
   "metadata": {},
   "outputs": [],
   "source": [
    "from pyspark.sql import SparkSession"
   ]
  },
  {
   "cell_type": "code",
   "execution_count": 3,
   "id": "5d3f08ed",
   "metadata": {},
   "outputs": [],
   "source": [
    "sc = SparkSession.builder.getOrCreate()"
   ]
  },
  {
   "cell_type": "code",
   "execution_count": 4,
   "id": "f974632f",
   "metadata": {},
   "outputs": [],
   "source": [
    "sdf = sc.read.json('nyt2.json')"
   ]
  },
  {
   "cell_type": "code",
   "execution_count": 9,
   "id": "dfd50934",
   "metadata": {},
   "outputs": [
    {
     "name": "stdout",
     "output_type": "stream",
     "text": [
      "+--------------------+--------------------+--------------------+-----------------+--------------------+-------------+-----------------+-------------+----+--------------+--------------------+-------------+\n",
      "|                 _id|  amazon_product_url|              author| bestsellers_date|         description|        price|   published_date|    publisher|rank|rank_last_week|               title|weeks_on_list|\n",
      "+--------------------+--------------------+--------------------+-----------------+--------------------+-------------+-----------------+-------------+----+--------------+--------------------+-------------+\n",
      "|{5b4aa4ead3089013...|http://www.amazon...|       Dean R Koontz|{{1211587200000}}|Odd Thomas, who c...|   {null, 27}|{{1212883200000}}|       Bantam| {1}|           {0}|           ODD HOURS|          {1}|\n",
      "|{5b4aa4ead3089013...|http://www.amazon...|     Stephenie Meyer|{{1211587200000}}|Aliens have taken...|{25.99, null}|{{1212883200000}}|Little, Brown| {2}|           {1}|            THE HOST|          {3}|\n",
      "|{5b4aa4ead3089013...|http://www.amazon...|        Emily Giffin|{{1211587200000}}|A woman's happy m...|{24.95, null}|{{1212883200000}}| St. Martin's| {3}|           {2}|LOVE THE ONE YOU'...|          {2}|\n",
      "|{5b4aa4ead3089013...|http://www.amazon...|   Patricia Cornwell|{{1211587200000}}|A Massachusetts s...|{22.95, null}|{{1212883200000}}|       Putnam| {4}|           {0}|           THE FRONT|          {1}|\n",
      "|{5b4aa4ead3089013...|http://www.amazon...|     Chuck Palahniuk|{{1211587200000}}|An aging porn que...|{24.95, null}|{{1212883200000}}|    Doubleday| {5}|           {0}|               SNUFF|          {1}|\n",
      "|{5b4aa4ead3089013...|http://www.amazon...|James Patterson a...|{{1211587200000}}|A woman finds an ...|{24.99, null}|{{1212883200000}}|Little, Brown| {6}|           {3}|SUNDAYS AT TIFFANY’S|          {4}|\n",
      "|{5b4aa4ead3089013...|http://www.amazon...|       John Sandford|{{1211587200000}}|The Minneapolis d...|{26.95, null}|{{1212883200000}}|       Putnam| {7}|           {4}|        PHANTOM PREY|          {3}|\n",
      "|{5b4aa4ead3089013...|http://www.amazon...|       Jimmy Buffett|{{1211587200000}}|A Southern family...|{21.99, null}|{{1212883200000}}|Little, Brown| {8}|           {6}|          SWINE NOT?|          {2}|\n",
      "|{5b4aa4ead3089013...|http://www.amazon...|    Elizabeth George|{{1211587200000}}|In Cornwall, tryi...|{27.95, null}|{{1212883200000}}|       Harper| {9}|           {8}|     CARELESS IN RED|          {3}|\n",
      "|{5b4aa4ead3089013...|http://www.amazon...|      David Baldacci|{{1211587200000}}|An intelligence a...|{26.99, null}|{{1212883200000}}|Grand Central|{10}|           {7}|     THE WHOLE TRUTH|          {5}|\n",
      "+--------------------+--------------------+--------------------+-----------------+--------------------+-------------+-----------------+-------------+----+--------------+--------------------+-------------+\n",
      "only showing top 10 rows\n",
      "\n"
     ]
    }
   ],
   "source": [
    "sdf.show(10)"
   ]
  },
  {
   "cell_type": "code",
   "execution_count": 10,
   "id": "e9f3ea02",
   "metadata": {},
   "outputs": [
    {
     "name": "stdout",
     "output_type": "stream",
     "text": [
      "+--------------------+--------------------+------------------+-----------------+--------------------+-------------+-----------------+-------------+----+--------------+-------------------+-------------+\n",
      "|                 _id|  amazon_product_url|            author| bestsellers_date|         description|        price|   published_date|    publisher|rank|rank_last_week|              title|weeks_on_list|\n",
      "+--------------------+--------------------+------------------+-----------------+--------------------+-------------+-----------------+-------------+----+--------------+-------------------+-------------+\n",
      "|{5b4aa4ead3089013...|http://www.amazon...|      Daniel Silva|{{1217030400000}}|Gabriel Allon, an...|{26.95, null}|{{1218326400000}}|       Putnam| {1}|           {0}| THE SECRET SERVANT|          {1}|\n",
      "|{5b4aa4ead3089013...|http://www.amazon...|        Jane Green|{{1218240000000}}|A woman’s life ch...|    {null, 0}|{{1219536000000}}|       Viking|{18}|           {0}|    THE BEACH HOUSE|          {0}|\n",
      "|{5b4aa4ead3089013...|http://www.amazon...|          J D Robb|{{1226102400000}}|Lt. Eve Dallas in...|{25.95, null}|{{1227398400000}}|       Putnam| {2}|           {0}| SALVATION IN DEATH|          {1}|\n",
      "|{5b4aa4ead3089013...|http://www.amazon...|     Toni Morrison|{{1226707200000}}|In 17th-century A...|{23.95, null}|{{1228003200000}}|        Knopf| {5}|           {0}|            A MERCY|          {1}|\n",
      "|{5b4aa4ead3089013...|http://www.amazon...|   Nicholas Sparks|{{1232150400000}}|A Marine returnin...|    {null, 0}|{{1233446400000}}|Grand Central|{16}|           {0}|      THE LUCKY ONE|          {0}|\n",
      "|{5b4aa4ead3089013...|http://www.amazon...|   Stephenie Meyer|{{1240012800000}}|Aliens have taken...|{25.99, null}|{{1241308800000}}|Little, Brown| {5}|           {4}|           THE HOST|         {49}|\n",
      "|{5b4aa4ead3089013...|http://www.amazon...|          Lisa See|{{1243641600000}}|Two Chinese siste...|   {null, 25}|{{1244937600000}}| Random House| {4}|           {0}|     SHANGHAI GIRLS|          {1}|\n",
      "|{5b4aa4ead3089013...|http://www.amazon...|    David Baldacci|{{1260576000000}}|An ex-cop in Wash...|{27.99, null}|{{1261872000000}}|Grand Central|{14}|          {13}|          TRUE BLUE|          {7}|\n",
      "|{5b4aa4ead3089013...|http://www.amazon...|Laurell K Hamilton|{{1261180800000}}|In the eighth Mer...|    {null, 0}|{{1262476800000}}|   Ballantine|{18}|           {0}|DIVINE MISDEMEANORS|          {0}|\n",
      "|{5b4aa4ead3089013...|http://www.amazon...|     Leila Meacham|{{1264291200000}}|Three generations...|{24.99, null}|{{1265500800000}}|Grand Central| {9}|          {13}|              ROSES|          {2}|\n",
      "+--------------------+--------------------+------------------+-----------------+--------------------+-------------+-----------------+-------------+----+--------------+-------------------+-------------+\n",
      "only showing top 10 rows\n",
      "\n"
     ]
    }
   ],
   "source": [
    "sdf_dropup = sdf.dropDuplicates()\n",
    "sdf_dropup.show(10)"
   ]
  },
  {
   "cell_type": "code",
   "execution_count": 11,
   "id": "95265e0b",
   "metadata": {},
   "outputs": [
    {
     "name": "stdout",
     "output_type": "stream",
     "text": [
      "+--------------------+\n",
      "|              author|\n",
      "+--------------------+\n",
      "|       Dean R Koontz|\n",
      "|     Stephenie Meyer|\n",
      "|        Emily Giffin|\n",
      "|   Patricia Cornwell|\n",
      "|     Chuck Palahniuk|\n",
      "|James Patterson a...|\n",
      "|       John Sandford|\n",
      "|       Jimmy Buffett|\n",
      "|    Elizabeth George|\n",
      "|      David Baldacci|\n",
      "+--------------------+\n",
      "only showing top 10 rows\n",
      "\n"
     ]
    }
   ],
   "source": [
    "sdf.select(\"author\").show(10)"
   ]
  },
  {
   "cell_type": "code",
   "execution_count": 12,
   "id": "0b57225a",
   "metadata": {},
   "outputs": [
    {
     "name": "stdout",
     "output_type": "stream",
     "text": [
      "+--------------------+--------------------+----+-------------+\n",
      "|              author|               title|rank|        price|\n",
      "+--------------------+--------------------+----+-------------+\n",
      "|       Dean R Koontz|           ODD HOURS| {1}|   {null, 27}|\n",
      "|     Stephenie Meyer|            THE HOST| {2}|{25.99, null}|\n",
      "|        Emily Giffin|LOVE THE ONE YOU'...| {3}|{24.95, null}|\n",
      "|   Patricia Cornwell|           THE FRONT| {4}|{22.95, null}|\n",
      "|     Chuck Palahniuk|               SNUFF| {5}|{24.95, null}|\n",
      "|James Patterson a...|SUNDAYS AT TIFFANY’S| {6}|{24.99, null}|\n",
      "|       John Sandford|        PHANTOM PREY| {7}|{26.95, null}|\n",
      "|       Jimmy Buffett|          SWINE NOT?| {8}|{21.99, null}|\n",
      "|    Elizabeth George|     CARELESS IN RED| {9}|{27.95, null}|\n",
      "|      David Baldacci|     THE WHOLE TRUTH|{10}|{26.99, null}|\n",
      "+--------------------+--------------------+----+-------------+\n",
      "only showing top 10 rows\n",
      "\n"
     ]
    }
   ],
   "source": [
    "sdf.select(\"author\",\"title\",\"rank\",\"price\").show(10)"
   ]
  },
  {
   "cell_type": "code",
   "execution_count": 16,
   "id": "04c8e626",
   "metadata": {},
   "outputs": [
    {
     "name": "stdout",
     "output_type": "stream",
     "text": [
      "+--------------------+-----------------------------------------------------+\n",
      "|               title|CASE WHEN (NOT (title = ODD HOURS)) THEN 1 ELSE 0 END|\n",
      "+--------------------+-----------------------------------------------------+\n",
      "|           ODD HOURS|                                                    0|\n",
      "|            THE HOST|                                                    1|\n",
      "|LOVE THE ONE YOU'...|                                                    1|\n",
      "|           THE FRONT|                                                    1|\n",
      "|               SNUFF|                                                    1|\n",
      "|SUNDAYS AT TIFFANY’S|                                                    1|\n",
      "|        PHANTOM PREY|                                                    1|\n",
      "|          SWINE NOT?|                                                    1|\n",
      "|     CARELESS IN RED|                                                    1|\n",
      "|     THE WHOLE TRUTH|                                                    1|\n",
      "+--------------------+-----------------------------------------------------+\n",
      "only showing top 10 rows\n",
      "\n"
     ]
    }
   ],
   "source": [
    "from pyspark.sql.functions import when\n",
    "\n",
    "sdf.select(\"title\", when(sdf.title != \"ODD HOURS\",1).otherwise(0)).show(10)"
   ]
  },
  {
   "cell_type": "code",
   "execution_count": 19,
   "id": "1518047c",
   "metadata": {},
   "outputs": [
    {
     "name": "stdout",
     "output_type": "stream",
     "text": [
      "+-------------+\n",
      "|       author|\n",
      "+-------------+\n",
      "| Emily Giffin|\n",
      "|John Sandford|\n",
      "| Emily Giffin|\n",
      "|John Sandford|\n",
      "| Emily Giffin|\n",
      "|John Sandford|\n",
      "| Emily Giffin|\n",
      "| Emily Giffin|\n",
      "|John Sandford|\n",
      "| Emily Giffin|\n",
      "+-------------+\n",
      "only showing top 10 rows\n",
      "\n"
     ]
    }
   ],
   "source": [
    "sdf[sdf.author.isin(\"John Sandford\",\"Emily Giffin\")].select(\"author\").show(10)"
   ]
  },
  {
   "cell_type": "code",
   "execution_count": 22,
   "id": "6cb17190",
   "metadata": {},
   "outputs": [
    {
     "name": "stdout",
     "output_type": "stream",
     "text": [
      "+--------------------+--------------------+----------------+\n",
      "|              author|               title|title LIKE THE %|\n",
      "+--------------------+--------------------+----------------+\n",
      "|       Dean R Koontz|           ODD HOURS|           false|\n",
      "|     Stephenie Meyer|            THE HOST|            true|\n",
      "|        Emily Giffin|LOVE THE ONE YOU'...|           false|\n",
      "|   Patricia Cornwell|           THE FRONT|            true|\n",
      "|     Chuck Palahniuk|               SNUFF|           false|\n",
      "|James Patterson a...|SUNDAYS AT TIFFANY’S|           false|\n",
      "|       John Sandford|        PHANTOM PREY|           false|\n",
      "|       Jimmy Buffett|          SWINE NOT?|           false|\n",
      "|    Elizabeth George|     CARELESS IN RED|           false|\n",
      "|      David Baldacci|     THE WHOLE TRUTH|            true|\n",
      "|        Troy Denning|          INVINCIBLE|           false|\n",
      "|          James Frey|BRIGHT SHINY MORNING|           false|\n",
      "|         Garth Stein|THE ART OF RACING...|            true|\n",
      "|     Debbie Macomber|       TWENTY WISHES|           false|\n",
      "|         Jeff Shaara|      THE STEEL WAVE|            true|\n",
      "+--------------------+--------------------+----------------+\n",
      "only showing top 15 rows\n",
      "\n"
     ]
    }
   ],
   "source": [
    "sdf.select(\"author\",\"title\",sdf.title.like(\"THE %\")).show(15)"
   ]
  },
  {
   "cell_type": "code",
   "execution_count": 23,
   "id": "56be451c",
   "metadata": {},
   "outputs": [
    {
     "name": "stdout",
     "output_type": "stream",
     "text": [
      "+-----------------+--------------------+----------------------+\n",
      "|           author|               title|startswith(title, THE)|\n",
      "+-----------------+--------------------+----------------------+\n",
      "|    Dean R Koontz|           ODD HOURS|                 false|\n",
      "|  Stephenie Meyer|            THE HOST|                  true|\n",
      "|     Emily Giffin|LOVE THE ONE YOU'...|                 false|\n",
      "|Patricia Cornwell|           THE FRONT|                  true|\n",
      "|  Chuck Palahniuk|               SNUFF|                 false|\n",
      "+-----------------+--------------------+----------------------+\n",
      "only showing top 5 rows\n",
      "\n"
     ]
    }
   ],
   "source": [
    "sdf.select(\"author\", \"title\", sdf.title.startswith(\"THE\")).show(5)"
   ]
  },
  {
   "cell_type": "code",
   "execution_count": 24,
   "id": "ca41bd60",
   "metadata": {},
   "outputs": [
    {
     "name": "stdout",
     "output_type": "stream",
     "text": [
      "+-----------------+--------------------+-------------------+\n",
      "|           author|               title|endswith(title, NT)|\n",
      "+-----------------+--------------------+-------------------+\n",
      "|    Dean R Koontz|           ODD HOURS|              false|\n",
      "|  Stephenie Meyer|            THE HOST|              false|\n",
      "|     Emily Giffin|LOVE THE ONE YOU'...|              false|\n",
      "|Patricia Cornwell|           THE FRONT|               true|\n",
      "|  Chuck Palahniuk|               SNUFF|              false|\n",
      "+-----------------+--------------------+-------------------+\n",
      "only showing top 5 rows\n",
      "\n"
     ]
    }
   ],
   "source": [
    "sdf.select(\"author\", \"title\", sdf.title.endswith(\"NT\")).show(5)"
   ]
  },
  {
   "cell_type": "code",
   "execution_count": 26,
   "id": "3f832594",
   "metadata": {},
   "outputs": [
    {
     "name": "stdout",
     "output_type": "stream",
     "text": [
      "+------+\n",
      "|author|\n",
      "+------+\n",
      "|   Dea|\n",
      "|   Ste|\n",
      "|   Emi|\n",
      "|   Pat|\n",
      "|   Chu|\n",
      "+------+\n",
      "only showing top 5 rows\n",
      "\n"
     ]
    }
   ],
   "source": [
    "sdf.select(sdf.author.substr(1,3).alias(\"author\")).show(5)"
   ]
  },
  {
   "cell_type": "code",
   "execution_count": 27,
   "id": "ad8fc51d",
   "metadata": {},
   "outputs": [
    {
     "name": "stdout",
     "output_type": "stream",
     "text": [
      "+------+\n",
      "|author|\n",
      "+------+\n",
      "|an R K|\n",
      "|epheni|\n",
      "|ily Gi|\n",
      "|tricia|\n",
      "|uck Pa|\n",
      "+------+\n",
      "only showing top 5 rows\n",
      "\n"
     ]
    }
   ],
   "source": [
    "sdf.select(sdf.author.substr(3,6).alias(\"author\")).show(5)"
   ]
  },
  {
   "cell_type": "code",
   "execution_count": 28,
   "id": "a1229b02",
   "metadata": {},
   "outputs": [
    {
     "name": "stdout",
     "output_type": "stream",
     "text": [
      "+------+\n",
      "|author|\n",
      "+------+\n",
      "|Dean R|\n",
      "|Stephe|\n",
      "|Emily |\n",
      "|Patric|\n",
      "|Chuck |\n",
      "+------+\n",
      "only showing top 5 rows\n",
      "\n"
     ]
    }
   ],
   "source": [
    "sdf.select(sdf.author.substr(1,6).alias(\"author\")).show(5)"
   ]
  },
  {
   "cell_type": "code",
   "execution_count": 29,
   "id": "6832566b",
   "metadata": {},
   "outputs": [
    {
     "data": {
      "text/plain": [
       "DataFrame[_id: struct<$oid:string>, amazon_product_url: string, author: string, bestsellers_date: struct<$date:struct<$numberLong:string>>, description: string, price: struct<$numberDouble:string,$numberInt:string>, published_date: struct<$date:struct<$numberLong:string>>, publisher: string, rank: struct<$numberInt:string>, rank_last_week: struct<$numberInt:string>, title: string, weeks_on_list: struct<$numberInt:string>, new_column: string]"
      ]
     },
     "metadata": {},
     "output_type": "display_data"
    }
   ],
   "source": [
    "from pyspark.sql.functions import lit\n",
    "\n",
    "sdf = sdf.withColumn('new_column', lit('This is a new column'))\n",
    "display(sdf)"
   ]
  },
  {
   "cell_type": "code",
   "execution_count": 30,
   "id": "238c528f",
   "metadata": {},
   "outputs": [
    {
     "name": "stdout",
     "output_type": "stream",
     "text": [
      "+--------------------+--------------------+-----------------+-----------------+--------------------+-------------+-----------------+-------------+----+--------------+--------------------+-------------+--------------------+\n",
      "|                 _id|  amazon_product_url|           author| bestsellers_date|         description|        price|   published_date|    publisher|rank|rank_last_week|               title|weeks_on_list|          new_column|\n",
      "+--------------------+--------------------+-----------------+-----------------+--------------------+-------------+-----------------+-------------+----+--------------+--------------------+-------------+--------------------+\n",
      "|{5b4aa4ead3089013...|http://www.amazon...|    Dean R Koontz|{{1211587200000}}|Odd Thomas, who c...|   {null, 27}|{{1212883200000}}|       Bantam| {1}|           {0}|           ODD HOURS|          {1}|This is a new column|\n",
      "|{5b4aa4ead3089013...|http://www.amazon...|  Stephenie Meyer|{{1211587200000}}|Aliens have taken...|{25.99, null}|{{1212883200000}}|Little, Brown| {2}|           {1}|            THE HOST|          {3}|This is a new column|\n",
      "|{5b4aa4ead3089013...|http://www.amazon...|     Emily Giffin|{{1211587200000}}|A woman's happy m...|{24.95, null}|{{1212883200000}}| St. Martin's| {3}|           {2}|LOVE THE ONE YOU'...|          {2}|This is a new column|\n",
      "|{5b4aa4ead3089013...|http://www.amazon...|Patricia Cornwell|{{1211587200000}}|A Massachusetts s...|{22.95, null}|{{1212883200000}}|       Putnam| {4}|           {0}|           THE FRONT|          {1}|This is a new column|\n",
      "|{5b4aa4ead3089013...|http://www.amazon...|  Chuck Palahniuk|{{1211587200000}}|An aging porn que...|{24.95, null}|{{1212883200000}}|    Doubleday| {5}|           {0}|               SNUFF|          {1}|This is a new column|\n",
      "+--------------------+--------------------+-----------------+-----------------+--------------------+-------------+-----------------+-------------+----+--------------+--------------------+-------------+--------------------+\n",
      "only showing top 5 rows\n",
      "\n"
     ]
    }
   ],
   "source": [
    "sdf.show(5)"
   ]
  },
  {
   "cell_type": "code",
   "execution_count": 31,
   "id": "568a220c",
   "metadata": {},
   "outputs": [
    {
     "name": "stdout",
     "output_type": "stream",
     "text": [
      "+--------------------+--------------------+-----------------+-----------------+--------------------+-------------+-----------------+-------------+----+--------------+--------------------+-------------+--------------------+\n",
      "|                 _id|                 URL|           author| bestsellers_date|         description|        price|   published_date|    publisher|rank|rank_last_week|               title|weeks_on_list|          new_column|\n",
      "+--------------------+--------------------+-----------------+-----------------+--------------------+-------------+-----------------+-------------+----+--------------+--------------------+-------------+--------------------+\n",
      "|{5b4aa4ead3089013...|http://www.amazon...|    Dean R Koontz|{{1211587200000}}|Odd Thomas, who c...|   {null, 27}|{{1212883200000}}|       Bantam| {1}|           {0}|           ODD HOURS|          {1}|This is a new column|\n",
      "|{5b4aa4ead3089013...|http://www.amazon...|  Stephenie Meyer|{{1211587200000}}|Aliens have taken...|{25.99, null}|{{1212883200000}}|Little, Brown| {2}|           {1}|            THE HOST|          {3}|This is a new column|\n",
      "|{5b4aa4ead3089013...|http://www.amazon...|     Emily Giffin|{{1211587200000}}|A woman's happy m...|{24.95, null}|{{1212883200000}}| St. Martin's| {3}|           {2}|LOVE THE ONE YOU'...|          {2}|This is a new column|\n",
      "|{5b4aa4ead3089013...|http://www.amazon...|Patricia Cornwell|{{1211587200000}}|A Massachusetts s...|{22.95, null}|{{1212883200000}}|       Putnam| {4}|           {0}|           THE FRONT|          {1}|This is a new column|\n",
      "|{5b4aa4ead3089013...|http://www.amazon...|  Chuck Palahniuk|{{1211587200000}}|An aging porn que...|{24.95, null}|{{1212883200000}}|    Doubleday| {5}|           {0}|               SNUFF|          {1}|This is a new column|\n",
      "+--------------------+--------------------+-----------------+-----------------+--------------------+-------------+-----------------+-------------+----+--------------+--------------------+-------------+--------------------+\n",
      "only showing top 5 rows\n",
      "\n"
     ]
    }
   ],
   "source": [
    "sdf = sdf.withColumnRenamed('amazon_product_url','URL')\n",
    "sdf.show(5)"
   ]
  },
  {
   "cell_type": "code",
   "execution_count": 32,
   "id": "8bbd7897",
   "metadata": {},
   "outputs": [
    {
     "name": "stdout",
     "output_type": "stream",
     "text": [
      "+--------------------+--------------------+-----------------+-----------------+--------------------+-------------+----+--------------+--------------------+-------------+--------------------+\n",
      "|                 _id|                 URL|           author| bestsellers_date|         description|        price|rank|rank_last_week|               title|weeks_on_list|          new_column|\n",
      "+--------------------+--------------------+-----------------+-----------------+--------------------+-------------+----+--------------+--------------------+-------------+--------------------+\n",
      "|{5b4aa4ead3089013...|http://www.amazon...|    Dean R Koontz|{{1211587200000}}|Odd Thomas, who c...|   {null, 27}| {1}|           {0}|           ODD HOURS|          {1}|This is a new column|\n",
      "|{5b4aa4ead3089013...|http://www.amazon...|  Stephenie Meyer|{{1211587200000}}|Aliens have taken...|{25.99, null}| {2}|           {1}|            THE HOST|          {3}|This is a new column|\n",
      "|{5b4aa4ead3089013...|http://www.amazon...|     Emily Giffin|{{1211587200000}}|A woman's happy m...|{24.95, null}| {3}|           {2}|LOVE THE ONE YOU'...|          {2}|This is a new column|\n",
      "|{5b4aa4ead3089013...|http://www.amazon...|Patricia Cornwell|{{1211587200000}}|A Massachusetts s...|{22.95, null}| {4}|           {0}|           THE FRONT|          {1}|This is a new column|\n",
      "|{5b4aa4ead3089013...|http://www.amazon...|  Chuck Palahniuk|{{1211587200000}}|An aging porn que...|{24.95, null}| {5}|           {0}|               SNUFF|          {1}|This is a new column|\n",
      "+--------------------+--------------------+-----------------+-----------------+--------------------+-------------+----+--------------+--------------------+-------------+--------------------+\n",
      "only showing top 5 rows\n",
      "\n"
     ]
    }
   ],
   "source": [
    "sdf_remove = sdf.drop(\"publisher\",\"published_date\").show(5)"
   ]
  },
  {
   "cell_type": "code",
   "execution_count": 34,
   "id": "e9630ebf",
   "metadata": {},
   "outputs": [
    {
     "name": "stdout",
     "output_type": "stream",
     "text": [
      "+--------------------+--------------------+-----------------+-----------------+--------------------+-------------+----+--------------+--------------------+-------------+--------------------+\n",
      "|                 _id|                 URL|           author| bestsellers_date|         description|        price|rank|rank_last_week|               title|weeks_on_list|          new_column|\n",
      "+--------------------+--------------------+-----------------+-----------------+--------------------+-------------+----+--------------+--------------------+-------------+--------------------+\n",
      "|{5b4aa4ead3089013...|http://www.amazon...|    Dean R Koontz|{{1211587200000}}|Odd Thomas, who c...|   {null, 27}| {1}|           {0}|           ODD HOURS|          {1}|This is a new column|\n",
      "|{5b4aa4ead3089013...|http://www.amazon...|  Stephenie Meyer|{{1211587200000}}|Aliens have taken...|{25.99, null}| {2}|           {1}|            THE HOST|          {3}|This is a new column|\n",
      "|{5b4aa4ead3089013...|http://www.amazon...|     Emily Giffin|{{1211587200000}}|A woman's happy m...|{24.95, null}| {3}|           {2}|LOVE THE ONE YOU'...|          {2}|This is a new column|\n",
      "|{5b4aa4ead3089013...|http://www.amazon...|Patricia Cornwell|{{1211587200000}}|A Massachusetts s...|{22.95, null}| {4}|           {0}|           THE FRONT|          {1}|This is a new column|\n",
      "|{5b4aa4ead3089013...|http://www.amazon...|  Chuck Palahniuk|{{1211587200000}}|An aging porn que...|{24.95, null}| {5}|           {0}|               SNUFF|          {1}|This is a new column|\n",
      "+--------------------+--------------------+-----------------+-----------------+--------------------+-------------+----+--------------+--------------------+-------------+--------------------+\n",
      "only showing top 5 rows\n",
      "\n"
     ]
    }
   ],
   "source": [
    "sdf_remove2 = sdf.drop(sdf.publisher).drop(sdf.published_date).show(5)"
   ]
  },
  {
   "cell_type": "code",
   "execution_count": 36,
   "id": "11ce741a",
   "metadata": {},
   "outputs": [
    {
     "data": {
      "text/plain": [
       "[('_id', 'struct<$oid:string>'),\n",
       " ('URL', 'string'),\n",
       " ('author', 'string'),\n",
       " ('bestsellers_date', 'struct<$date:struct<$numberLong:string>>'),\n",
       " ('description', 'string'),\n",
       " ('price', 'struct<$numberDouble:string,$numberInt:string>'),\n",
       " ('published_date', 'struct<$date:struct<$numberLong:string>>'),\n",
       " ('publisher', 'string'),\n",
       " ('rank', 'struct<$numberInt:string>'),\n",
       " ('rank_last_week', 'struct<$numberInt:string>'),\n",
       " ('title', 'string'),\n",
       " ('weeks_on_list', 'struct<$numberInt:string>'),\n",
       " ('new_column', 'string')]"
      ]
     },
     "execution_count": 36,
     "metadata": {},
     "output_type": "execute_result"
    }
   ],
   "source": [
    "sdf.dtypes"
   ]
  },
  {
   "cell_type": "code",
   "execution_count": 37,
   "id": "a3bed3b4",
   "metadata": {},
   "outputs": [
    {
     "name": "stdout",
     "output_type": "stream",
     "text": [
      "+-------+--------------------+---------------+--------------------+---------+------------------+--------------------+\n",
      "|summary|                 URL|         author|         description|publisher|             title|          new_column|\n",
      "+-------+--------------------+---------------+--------------------+---------+------------------+--------------------+\n",
      "|  count|               10195|          10195|               10195|    10195|             10195|               10195|\n",
      "|   mean|                null|           null|                null|     null|1877.7142857142858|                null|\n",
      "| stddev|                null|           null|                null|     null| 370.9760613506458|                null|\n",
      "|    min|http://www.amazon...|        AJ Finn|                    |      ACE|  10TH ANNIVERSARY|This is a new column|\n",
      "|    max|https://www.amazo...|various authors|’Tis for the Rebe...|allantine|               ZOO|This is a new column|\n",
      "+-------+--------------------+---------------+--------------------+---------+------------------+--------------------+\n",
      "\n"
     ]
    }
   ],
   "source": [
    "sdf.describe().show()"
   ]
  },
  {
   "cell_type": "code",
   "execution_count": 38,
   "id": "6413e2de",
   "metadata": {},
   "outputs": [
    {
     "data": {
      "text/plain": [
       "['_id',\n",
       " 'URL',\n",
       " 'author',\n",
       " 'bestsellers_date',\n",
       " 'description',\n",
       " 'price',\n",
       " 'published_date',\n",
       " 'publisher',\n",
       " 'rank',\n",
       " 'rank_last_week',\n",
       " 'title',\n",
       " 'weeks_on_list',\n",
       " 'new_column']"
      ]
     },
     "execution_count": 38,
     "metadata": {},
     "output_type": "execute_result"
    }
   ],
   "source": [
    "sdf.columns"
   ]
  },
  {
   "cell_type": "code",
   "execution_count": 39,
   "id": "d807f87a",
   "metadata": {},
   "outputs": [
    {
     "data": {
      "text/plain": [
       "10195"
      ]
     },
     "execution_count": 39,
     "metadata": {},
     "output_type": "execute_result"
    }
   ],
   "source": [
    "sdf.count()"
   ]
  },
  {
   "cell_type": "code",
   "execution_count": 40,
   "id": "e0d25ea4",
   "metadata": {},
   "outputs": [
    {
     "data": {
      "text/plain": [
       "10195"
      ]
     },
     "execution_count": 40,
     "metadata": {},
     "output_type": "execute_result"
    }
   ],
   "source": [
    "sdf.distinct().count()"
   ]
  },
  {
   "cell_type": "code",
   "execution_count": 42,
   "id": "e61523c8",
   "metadata": {},
   "outputs": [
    {
     "name": "stdout",
     "output_type": "stream",
     "text": [
      "== Physical Plan ==\n",
      "*(1) Project [_id#7, amazon_product_url#8 AS URL#624, author#9, bestsellers_date#10, description#11, price#12, published_date#13, publisher#14, rank#15, rank_last_week#16, title#17, weeks_on_list#18, This is a new column AS new_column#545]\n",
      "+- FileScan json [_id#7,amazon_product_url#8,author#9,bestsellers_date#10,description#11,price#12,published_date#13,publisher#14,rank#15,rank_last_week#16,title#17,weeks_on_list#18] Batched: false, DataFilters: [], Format: JSON, Location: InMemoryFileIndex(1 paths)[file:/home/david/python/spark/nyt2.json], PartitionFilters: [], PushedFilters: [], ReadSchema: struct<_id:struct<$oid:string>,amazon_product_url:string,author:string,bestsellers_date:struct<$d...\n",
      "\n",
      "\n"
     ]
    }
   ],
   "source": [
    "sdf.explain()"
   ]
  },
  {
   "cell_type": "code",
   "execution_count": 43,
   "id": "dd604621",
   "metadata": {},
   "outputs": [
    {
     "name": "stdout",
     "output_type": "stream",
     "text": [
      "+-----------------+-----+\n",
      "|           author|count|\n",
      "+-----------------+-----+\n",
      "|       James Frey|    2|\n",
      "| Elin Hilderbrand|   58|\n",
      "|Sharon Kay Penman|    2|\n",
      "|      Lisa Genova|    7|\n",
      "|     Will Allison|    1|\n",
      "|Patricia Cornwell|   64|\n",
      "|    Laurie R King|    6|\n",
      "|       Tea Obreht|    6|\n",
      "|     Sarah Dunant|    1|\n",
      "|     Tim Johnston|    1|\n",
      "+-----------------+-----+\n",
      "only showing top 10 rows\n",
      "\n"
     ]
    }
   ],
   "source": [
    "sdf.groupBy(\"author\").count().show(10)"
   ]
  },
  {
   "cell_type": "code",
   "execution_count": 45,
   "id": "79da48f7",
   "metadata": {},
   "outputs": [
    {
     "name": "stdout",
     "output_type": "stream",
     "text": [
      "+--------------------+--------------------+---------------+-----------------+--------------------+-------------+-----------------+-------------+----+--------------+--------+-------------+--------------------+\n",
      "|                 _id|                 URL|         author| bestsellers_date|         description|        price|   published_date|    publisher|rank|rank_last_week|   title|weeks_on_list|          new_column|\n",
      "+--------------------+--------------------+---------------+-----------------+--------------------+-------------+-----------------+-------------+----+--------------+--------+-------------+--------------------+\n",
      "|{5b4aa4ead3089013...|http://www.amazon...|Stephenie Meyer|{{1211587200000}}|Aliens have taken...|{25.99, null}|{{1212883200000}}|Little, Brown| {2}|           {1}|THE HOST|          {3}|This is a new column|\n",
      "|{5b4aa4ead3089013...|http://www.amazon...|Stephenie Meyer|{{1212192000000}}|Aliens have taken...|{25.99, null}|{{1213488000000}}|Little, Brown| {2}|           {2}|THE HOST|          {4}|This is a new column|\n",
      "|{5b4aa4ead3089013...|http://www.amazon...|Stephenie Meyer|{{1212796800000}}|Aliens have taken...|{25.99, null}|{{1214092800000}}|Little, Brown| {2}|           {2}|THE HOST|          {5}|This is a new column|\n",
      "|{5b4aa4ead3089013...|http://www.amazon...|Stephenie Meyer|{{1213401600000}}|Aliens have taken...|{25.99, null}|{{1214697600000}}|Little, Brown| {3}|           {2}|THE HOST|          {6}|This is a new column|\n",
      "|{5b4aa4ead3089013...|http://www.amazon...|Stephenie Meyer|{{1214006400000}}|Aliens have taken...|{25.99, null}|{{1215302400000}}|Little, Brown| {3}|           {3}|THE HOST|          {7}|This is a new column|\n",
      "+--------------------+--------------------+---------------+-----------------+--------------------+-------------+-----------------+-------------+----+--------------+--------+-------------+--------------------+\n",
      "only showing top 5 rows\n",
      "\n"
     ]
    }
   ],
   "source": [
    "sdf.filter(sdf.title == 'THE HOST').show(5)"
   ]
  },
  {
   "cell_type": "code",
   "execution_count": 47,
   "id": "4ed758ec",
   "metadata": {},
   "outputs": [
    {
     "data": {
      "text/plain": [
       "DataFrame[_id: struct<$oid:string>, URL: string, author: string, bestsellers_date: struct<$date:struct<$numberLong:string>>, description: string, price: struct<$numberDouble:string,$numberInt:string>, published_date: struct<$date:struct<$numberLong:string>>, publisher: string, rank: struct<$numberInt:string>, rank_last_week: struct<$numberInt:string>, title: string, weeks_on_list: struct<$numberInt:string>, new_column: string]"
      ]
     },
     "execution_count": 47,
     "metadata": {},
     "output_type": "execute_result"
    }
   ],
   "source": [
    "sdf.na.fill(0)\n",
    "sdf.fillna(0)"
   ]
  },
  {
   "cell_type": "code",
   "execution_count": 48,
   "id": "f707af50",
   "metadata": {},
   "outputs": [
    {
     "data": {
      "text/html": [
       "<div>\n",
       "<style scoped>\n",
       "    .dataframe tbody tr th:only-of-type {\n",
       "        vertical-align: middle;\n",
       "    }\n",
       "\n",
       "    .dataframe tbody tr th {\n",
       "        vertical-align: top;\n",
       "    }\n",
       "\n",
       "    .dataframe thead th {\n",
       "        text-align: right;\n",
       "    }\n",
       "</style>\n",
       "<table border=\"1\" class=\"dataframe\">\n",
       "  <thead>\n",
       "    <tr style=\"text-align: right;\">\n",
       "      <th></th>\n",
       "      <th>_id</th>\n",
       "      <th>URL</th>\n",
       "      <th>author</th>\n",
       "      <th>bestsellers_date</th>\n",
       "      <th>description</th>\n",
       "      <th>price</th>\n",
       "      <th>published_date</th>\n",
       "      <th>publisher</th>\n",
       "      <th>rank</th>\n",
       "      <th>rank_last_week</th>\n",
       "      <th>title</th>\n",
       "      <th>weeks_on_list</th>\n",
       "      <th>new_column</th>\n",
       "    </tr>\n",
       "  </thead>\n",
       "  <tbody>\n",
       "    <tr>\n",
       "      <th>0</th>\n",
       "      <td>(5b4aa4ead3089013507db18b,)</td>\n",
       "      <td>http://www.amazon.com/Odd-Hours-Dean-Koontz/dp...</td>\n",
       "      <td>Dean R Koontz</td>\n",
       "      <td>((1211587200000,),)</td>\n",
       "      <td>Odd Thomas, who can communicate with the dead,...</td>\n",
       "      <td>(None, 27)</td>\n",
       "      <td>((1212883200000,),)</td>\n",
       "      <td>Bantam</td>\n",
       "      <td>(1,)</td>\n",
       "      <td>(0,)</td>\n",
       "      <td>ODD HOURS</td>\n",
       "      <td>(1,)</td>\n",
       "      <td>This is a new column</td>\n",
       "    </tr>\n",
       "    <tr>\n",
       "      <th>1</th>\n",
       "      <td>(5b4aa4ead3089013507db18c,)</td>\n",
       "      <td>http://www.amazon.com/The-Host-Novel-Stephenie...</td>\n",
       "      <td>Stephenie Meyer</td>\n",
       "      <td>((1211587200000,),)</td>\n",
       "      <td>Aliens have taken control of the minds and bod...</td>\n",
       "      <td>(25.99, None)</td>\n",
       "      <td>((1212883200000,),)</td>\n",
       "      <td>Little, Brown</td>\n",
       "      <td>(2,)</td>\n",
       "      <td>(1,)</td>\n",
       "      <td>THE HOST</td>\n",
       "      <td>(3,)</td>\n",
       "      <td>This is a new column</td>\n",
       "    </tr>\n",
       "    <tr>\n",
       "      <th>2</th>\n",
       "      <td>(5b4aa4ead3089013507db18d,)</td>\n",
       "      <td>http://www.amazon.com/Love-Youre-With-Emily-Gi...</td>\n",
       "      <td>Emily Giffin</td>\n",
       "      <td>((1211587200000,),)</td>\n",
       "      <td>A woman's happy marriage is shaken when she en...</td>\n",
       "      <td>(24.95, None)</td>\n",
       "      <td>((1212883200000,),)</td>\n",
       "      <td>St. Martin's</td>\n",
       "      <td>(3,)</td>\n",
       "      <td>(2,)</td>\n",
       "      <td>LOVE THE ONE YOU'RE WITH</td>\n",
       "      <td>(2,)</td>\n",
       "      <td>This is a new column</td>\n",
       "    </tr>\n",
       "    <tr>\n",
       "      <th>3</th>\n",
       "      <td>(5b4aa4ead3089013507db18e,)</td>\n",
       "      <td>http://www.amazon.com/The-Front-Garano-Patrici...</td>\n",
       "      <td>Patricia Cornwell</td>\n",
       "      <td>((1211587200000,),)</td>\n",
       "      <td>A Massachusetts state investigator and his tea...</td>\n",
       "      <td>(22.95, None)</td>\n",
       "      <td>((1212883200000,),)</td>\n",
       "      <td>Putnam</td>\n",
       "      <td>(4,)</td>\n",
       "      <td>(0,)</td>\n",
       "      <td>THE FRONT</td>\n",
       "      <td>(1,)</td>\n",
       "      <td>This is a new column</td>\n",
       "    </tr>\n",
       "    <tr>\n",
       "      <th>4</th>\n",
       "      <td>(5b4aa4ead3089013507db18f,)</td>\n",
       "      <td>http://www.amazon.com/Snuff-Chuck-Palahniuk/dp...</td>\n",
       "      <td>Chuck Palahniuk</td>\n",
       "      <td>((1211587200000,),)</td>\n",
       "      <td>An aging porn queens aims to cap her career by...</td>\n",
       "      <td>(24.95, None)</td>\n",
       "      <td>((1212883200000,),)</td>\n",
       "      <td>Doubleday</td>\n",
       "      <td>(5,)</td>\n",
       "      <td>(0,)</td>\n",
       "      <td>SNUFF</td>\n",
       "      <td>(1,)</td>\n",
       "      <td>This is a new column</td>\n",
       "    </tr>\n",
       "    <tr>\n",
       "      <th>...</th>\n",
       "      <td>...</td>\n",
       "      <td>...</td>\n",
       "      <td>...</td>\n",
       "      <td>...</td>\n",
       "      <td>...</td>\n",
       "      <td>...</td>\n",
       "      <td>...</td>\n",
       "      <td>...</td>\n",
       "      <td>...</td>\n",
       "      <td>...</td>\n",
       "      <td>...</td>\n",
       "      <td>...</td>\n",
       "      <td>...</td>\n",
       "    </tr>\n",
       "    <tr>\n",
       "      <th>10190</th>\n",
       "      <td>(5b4aa4ead3089013507dd959,)</td>\n",
       "      <td>https://www.amazon.com/Clancy-Line-Sight-Jack-...</td>\n",
       "      <td>Mike Maden</td>\n",
       "      <td>((1530921600000,),)</td>\n",
       "      <td>Jack Ryan Jr. risks his life to protect a woma...</td>\n",
       "      <td>(None, 0)</td>\n",
       "      <td>((1532217600000,),)</td>\n",
       "      <td>Putnam</td>\n",
       "      <td>(11,)</td>\n",
       "      <td>(6,)</td>\n",
       "      <td>TOM CLANCY LINE OF SIGHT</td>\n",
       "      <td>(4,)</td>\n",
       "      <td>This is a new column</td>\n",
       "    </tr>\n",
       "    <tr>\n",
       "      <th>10191</th>\n",
       "      <td>(5b4aa4ead3089013507dd95a,)</td>\n",
       "      <td>https://www.amazon.com/Something-Water-Novel-C...</td>\n",
       "      <td>Catherine Steadman</td>\n",
       "      <td>((1530921600000,),)</td>\n",
       "      <td>A documentary filmmaker and an investment bank...</td>\n",
       "      <td>(None, 0)</td>\n",
       "      <td>((1532217600000,),)</td>\n",
       "      <td>Ballantine</td>\n",
       "      <td>(12,)</td>\n",
       "      <td>(11,)</td>\n",
       "      <td>SOMETHING IN THE WATER</td>\n",
       "      <td>(5,)</td>\n",
       "      <td>This is a new column</td>\n",
       "    </tr>\n",
       "    <tr>\n",
       "      <th>10192</th>\n",
       "      <td>(5b4aa4ead3089013507dd95b,)</td>\n",
       "      <td>https://www.amazon.com/Little-Fires-Everywhere...</td>\n",
       "      <td>Celeste Ng</td>\n",
       "      <td>((1530921600000,),)</td>\n",
       "      <td>An artist upends a quiet town outside Cleveland.</td>\n",
       "      <td>(None, 0)</td>\n",
       "      <td>((1532217600000,),)</td>\n",
       "      <td>Penguin Press</td>\n",
       "      <td>(13,)</td>\n",
       "      <td>(12,)</td>\n",
       "      <td>LITTLE FIRES EVERYWHERE</td>\n",
       "      <td>(41,)</td>\n",
       "      <td>This is a new column</td>\n",
       "    </tr>\n",
       "    <tr>\n",
       "      <th>10193</th>\n",
       "      <td>(5b4aa4ead3089013507dd95c,)</td>\n",
       "      <td>https://www.amazon.com/Shelter-Place-Nora-Robe...</td>\n",
       "      <td>Nora Roberts</td>\n",
       "      <td>((1530921600000,),)</td>\n",
       "      <td>Survivors of a mass shooting outside a mall in...</td>\n",
       "      <td>(None, 0)</td>\n",
       "      <td>((1532217600000,),)</td>\n",
       "      <td>St. Martin's</td>\n",
       "      <td>(14,)</td>\n",
       "      <td>(5,)</td>\n",
       "      <td>SHELTER IN PLACE</td>\n",
       "      <td>(6,)</td>\n",
       "      <td>This is a new column</td>\n",
       "    </tr>\n",
       "    <tr>\n",
       "      <th>10194</th>\n",
       "      <td>(5b4aa4ead3089013507dd95d,)</td>\n",
       "      <td>https://www.amazon.com/Last-Time-Lied-Novel/dp...</td>\n",
       "      <td>Riley Sager</td>\n",
       "      <td>((1530921600000,),)</td>\n",
       "      <td>A painter is in danger when she returns to the...</td>\n",
       "      <td>(None, 0)</td>\n",
       "      <td>((1532217600000,),)</td>\n",
       "      <td>Dutton</td>\n",
       "      <td>(15,)</td>\n",
       "      <td>(0,)</td>\n",
       "      <td>THE LAST TIME I LIED</td>\n",
       "      <td>(1,)</td>\n",
       "      <td>This is a new column</td>\n",
       "    </tr>\n",
       "  </tbody>\n",
       "</table>\n",
       "<p>10195 rows × 13 columns</p>\n",
       "</div>"
      ],
      "text/plain": [
       "                               _id  \\\n",
       "0      (5b4aa4ead3089013507db18b,)   \n",
       "1      (5b4aa4ead3089013507db18c,)   \n",
       "2      (5b4aa4ead3089013507db18d,)   \n",
       "3      (5b4aa4ead3089013507db18e,)   \n",
       "4      (5b4aa4ead3089013507db18f,)   \n",
       "...                            ...   \n",
       "10190  (5b4aa4ead3089013507dd959,)   \n",
       "10191  (5b4aa4ead3089013507dd95a,)   \n",
       "10192  (5b4aa4ead3089013507dd95b,)   \n",
       "10193  (5b4aa4ead3089013507dd95c,)   \n",
       "10194  (5b4aa4ead3089013507dd95d,)   \n",
       "\n",
       "                                                     URL              author  \\\n",
       "0      http://www.amazon.com/Odd-Hours-Dean-Koontz/dp...       Dean R Koontz   \n",
       "1      http://www.amazon.com/The-Host-Novel-Stephenie...     Stephenie Meyer   \n",
       "2      http://www.amazon.com/Love-Youre-With-Emily-Gi...        Emily Giffin   \n",
       "3      http://www.amazon.com/The-Front-Garano-Patrici...   Patricia Cornwell   \n",
       "4      http://www.amazon.com/Snuff-Chuck-Palahniuk/dp...     Chuck Palahniuk   \n",
       "...                                                  ...                 ...   \n",
       "10190  https://www.amazon.com/Clancy-Line-Sight-Jack-...          Mike Maden   \n",
       "10191  https://www.amazon.com/Something-Water-Novel-C...  Catherine Steadman   \n",
       "10192  https://www.amazon.com/Little-Fires-Everywhere...          Celeste Ng   \n",
       "10193  https://www.amazon.com/Shelter-Place-Nora-Robe...        Nora Roberts   \n",
       "10194  https://www.amazon.com/Last-Time-Lied-Novel/dp...         Riley Sager   \n",
       "\n",
       "          bestsellers_date                                        description  \\\n",
       "0      ((1211587200000,),)  Odd Thomas, who can communicate with the dead,...   \n",
       "1      ((1211587200000,),)  Aliens have taken control of the minds and bod...   \n",
       "2      ((1211587200000,),)  A woman's happy marriage is shaken when she en...   \n",
       "3      ((1211587200000,),)  A Massachusetts state investigator and his tea...   \n",
       "4      ((1211587200000,),)  An aging porn queens aims to cap her career by...   \n",
       "...                    ...                                                ...   \n",
       "10190  ((1530921600000,),)  Jack Ryan Jr. risks his life to protect a woma...   \n",
       "10191  ((1530921600000,),)  A documentary filmmaker and an investment bank...   \n",
       "10192  ((1530921600000,),)   An artist upends a quiet town outside Cleveland.   \n",
       "10193  ((1530921600000,),)  Survivors of a mass shooting outside a mall in...   \n",
       "10194  ((1530921600000,),)  A painter is in danger when she returns to the...   \n",
       "\n",
       "               price       published_date      publisher   rank  \\\n",
       "0         (None, 27)  ((1212883200000,),)         Bantam   (1,)   \n",
       "1      (25.99, None)  ((1212883200000,),)  Little, Brown   (2,)   \n",
       "2      (24.95, None)  ((1212883200000,),)   St. Martin's   (3,)   \n",
       "3      (22.95, None)  ((1212883200000,),)         Putnam   (4,)   \n",
       "4      (24.95, None)  ((1212883200000,),)      Doubleday   (5,)   \n",
       "...              ...                  ...            ...    ...   \n",
       "10190      (None, 0)  ((1532217600000,),)         Putnam  (11,)   \n",
       "10191      (None, 0)  ((1532217600000,),)     Ballantine  (12,)   \n",
       "10192      (None, 0)  ((1532217600000,),)  Penguin Press  (13,)   \n",
       "10193      (None, 0)  ((1532217600000,),)   St. Martin's  (14,)   \n",
       "10194      (None, 0)  ((1532217600000,),)         Dutton  (15,)   \n",
       "\n",
       "      rank_last_week                     title weeks_on_list  \\\n",
       "0               (0,)                 ODD HOURS          (1,)   \n",
       "1               (1,)                  THE HOST          (3,)   \n",
       "2               (2,)  LOVE THE ONE YOU'RE WITH          (2,)   \n",
       "3               (0,)                 THE FRONT          (1,)   \n",
       "4               (0,)                     SNUFF          (1,)   \n",
       "...              ...                       ...           ...   \n",
       "10190           (6,)  TOM CLANCY LINE OF SIGHT          (4,)   \n",
       "10191          (11,)    SOMETHING IN THE WATER          (5,)   \n",
       "10192          (12,)   LITTLE FIRES EVERYWHERE         (41,)   \n",
       "10193           (5,)          SHELTER IN PLACE          (6,)   \n",
       "10194           (0,)      THE LAST TIME I LIED          (1,)   \n",
       "\n",
       "                 new_column  \n",
       "0      This is a new column  \n",
       "1      This is a new column  \n",
       "2      This is a new column  \n",
       "3      This is a new column  \n",
       "4      This is a new column  \n",
       "...                     ...  \n",
       "10190  This is a new column  \n",
       "10191  This is a new column  \n",
       "10192  This is a new column  \n",
       "10193  This is a new column  \n",
       "10194  This is a new column  \n",
       "\n",
       "[10195 rows x 13 columns]"
      ]
     },
     "execution_count": 48,
     "metadata": {},
     "output_type": "execute_result"
    }
   ],
   "source": [
    "sdf.toPandas()"
   ]
  },
  {
   "cell_type": "code",
   "execution_count": 49,
   "id": "c3142404",
   "metadata": {},
   "outputs": [],
   "source": [
    "sc.stop()"
   ]
  },
  {
   "cell_type": "code",
   "execution_count": null,
   "id": "cd0bac76",
   "metadata": {},
   "outputs": [],
   "source": []
  }
 ],
 "metadata": {
  "kernelspec": {
   "display_name": "Python 3",
   "language": "python",
   "name": "python3"
  },
  "language_info": {
   "codemirror_mode": {
    "name": "ipython",
    "version": 3
   },
   "file_extension": ".py",
   "mimetype": "text/x-python",
   "name": "python",
   "nbconvert_exporter": "python",
   "pygments_lexer": "ipython3",
   "version": "3.6.9"
  }
 },
 "nbformat": 4,
 "nbformat_minor": 5
}
